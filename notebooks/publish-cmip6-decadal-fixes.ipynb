{
 "cells": [
  {
   "cell_type": "markdown",
   "id": "2b2555ab-e3f2-492a-bda3-4688fca87528",
   "metadata": {},
   "source": [
    "# Publish cmip6 decadal fixes"
   ]
  },
  {
   "cell_type": "code",
   "execution_count": null,
   "id": "3aea8323-442f-4025-a2c6-600708d7cb92",
   "metadata": {},
   "outputs": [],
   "source": [
    "import dachar\n",
    "import os"
   ]
  },
  {
   "cell_type": "code",
   "execution_count": null,
   "id": "46daa659-0510-4f77-8c37-1c8e1db87120",
   "metadata": {},
   "outputs": [],
   "source": [
    "FIX_DIR = \"./fixes/cmip6-decadal\"\n",
    "if not os.path.exists(FIX_DIR):\n",
    "    os.makedirs(FIX_DIR)"
   ]
  },
  {
   "cell_type": "code",
   "execution_count": null,
   "id": "35bf556f-1dbf-4200-8447-23013066df49",
   "metadata": {},
   "outputs": [],
   "source": [
    "DRS_ID = \"CMIP6.DCPP.MOHC.HadGEM3-GC31-MM.dcppA-hindcast.s2004-r3i1p1f2.Amon.pr.gn.v20200417\"\n",
    "\n",
    "FIX_PATH = f\"{FIX_DIR}/{DRS_ID}.json\""
   ]
  },
  {
   "cell_type": "code",
   "execution_count": null,
   "id": "cbb309d0-3d51-4c56-8b0c-092338fc831f",
   "metadata": {},
   "outputs": [],
   "source": [
    "dachar.generate_decadal_fix(FIX_PATH, DRS_ID)"
   ]
  }
 ],
 "metadata": {
  "kernelspec": {
   "display_name": "Python 3 (ipykernel)",
   "language": "python",
   "name": "python3"
  },
  "language_info": {
   "codemirror_mode": {
    "name": "ipython",
    "version": 3
   },
   "file_extension": ".py",
   "mimetype": "text/x-python",
   "name": "python",
   "nbconvert_exporter": "python",
   "pygments_lexer": "ipython3",
   "version": "3.10.5"
  }
 },
 "nbformat": 4,
 "nbformat_minor": 5
}
