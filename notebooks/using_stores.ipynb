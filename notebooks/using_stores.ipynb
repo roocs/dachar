{
 "cells": [
  {
   "cell_type": "markdown",
   "metadata": {},
   "source": [
    "# Roocs data stores"
   ]
  },
  {
   "cell_type": "markdown",
   "metadata": {},
   "source": [
    "Roocs consists of stores which it uses to identify and apply fixes to datasets. This notebook demonstrates the purpose of and how to interact with the Character store and the Fix store.\n",
    "\n",
    "The Character store contains information about the 'character' of datasets that have been scanned. This is used in the identification of fixes.\n",
    "    \n",
    "The Fix store keeps track of these fixes. Each document corresponds to a specific dataset and details the fixes which are to be applied to it before an operation is applied to it.\n",
    "\n",
    "The workflow from scanning datasets to applying fixes is shown below:"
   ]
  },
  {
   "attachments": {
    "image.png": {
     "image/png": "[encoded data removed]"
    }
   },
   "cell_type": "markdown",
   "metadata": {},
   "source": [
    "![image.png](attachment:image.png)"
   ]
  },
  {
   "cell_type": "markdown",
   "metadata": {},
   "source": [
    "1. Datasets are scanned and the documents are indexed in the Character Store.\n",
    "2. The analysis is run over samples (collections of datasets). The inputs and results of this are recorded in the Analysis Store.\n",
    "3. Fix proposals are generated based on any anomalies identified in the analysis of the sample. These are stored in the Fix Proposal Store.\n",
    "4. The fixes are processed - we decide whether a fix is published to the Fix Store or rejected. If a fix is published it will be applied when a dataset is used in a process (subset, average etc.)."
   ]
  },
  {
   "cell_type": "markdown",
   "metadata": {},
   "source": [
    "The stores can be accessed through dachar or directly using CEDA Elasticsearch tools."
   ]
  },
  {
   "cell_type": "markdown",
   "metadata": {},
   "source": [
    "## Setting up elasticsearch "
   ]
  },
  {
   "cell_type": "code",
   "execution_count": 5,
   "metadata": {},
   "outputs": [],
   "source": [
    "# Import the required packages\n",
    "import virtualenv\n",
    "import pip\n",
    "import os\n",
    "\n",
    "# Define and create the base directory install virtual environments\n",
    "venvs_dir = os.path.join(os.path.expanduser(\"~\"), \"nb-venvs\")\n",
    "\n",
    "if not os.path.isdir(venvs_dir):\n",
    "    os.makedirs(venvs_dir)\n",
    "    \n",
    "# Define the venv directory\n",
    "venv_dir = os.path.join(venvs_dir, 'venv-dachar-notebook')"
   ]
  },
  {
   "cell_type": "code",
   "execution_count": 6,
   "metadata": {},
   "outputs": [
    {
     "name": "stdout",
     "output_type": "stream",
     "text": [
      "copying /opt/jaspy/bin/python => /home/users/esmith88/nb-venvs/venv-dachar-notebook/bin/python\n"
     ]
    }
   ],
   "source": [
    "# Create the virtual environment\n",
    "virtualenv.create_environment(venv_dir)"
   ]
  },
  {
   "cell_type": "code",
   "execution_count": 7,
   "metadata": {},
   "outputs": [],
   "source": [
    "# Activate the venv\n",
    "activate_file = os.path.join(venv_dir, \"bin\", \"activate_this.py\")\n",
    "exec(open(activate_file).read(), dict(__file__=activate_file))"
   ]
  },
  {
   "cell_type": "code",
   "execution_count": 8,
   "metadata": {},
   "outputs": [
    {
     "name": "stdout",
     "output_type": "stream",
     "text": [
      "Traceback (most recent call last):\n",
      "  File \"/home/users/esmith88/nb-venvs/venv-dachar-notebook/bin/pip\", line 7, in <module>\n",
      "    from pip._internal import main\n",
      "  File \"/home/users/esmith88/nb-venvs/venv-dachar-notebook/lib/python3.7/site-packages/pip/_internal/__init__.py\", line 42, in <module>\n",
      "    from pip._internal import cmdoptions\n",
      "  File \"/home/users/esmith88/nb-venvs/venv-dachar-notebook/lib/python3.7/site-packages/pip/_internal/cmdoptions.py\", line 16, in <module>\n",
      "    from pip._internal.index import (\n",
      "ImportError: cannot import name 'FormatControl' from 'pip._internal.index' (/home/users/esmith88/nb-venvs/venv-dachar-notebook/lib/python3.7/site-packages/pip/_internal/index/__init__.py)\n",
      "Traceback (most recent call last):\n",
      "  File \"/home/users/esmith88/nb-venvs/venv-dachar-notebook/bin/pip\", line 7, in <module>\n",
      "    from pip._internal import main\n",
      "  File \"/home/users/esmith88/nb-venvs/venv-dachar-notebook/lib/python3.7/site-packages/pip/_internal/__init__.py\", line 42, in <module>\n",
      "    from pip._internal import cmdoptions\n",
      "  File \"/home/users/esmith88/nb-venvs/venv-dachar-notebook/lib/python3.7/site-packages/pip/_internal/cmdoptions.py\", line 16, in <module>\n",
      "    from pip._internal.index import (\n",
      "ImportError: cannot import name 'FormatControl' from 'pip._internal.index' (/home/users/esmith88/nb-venvs/venv-dachar-notebook/lib/python3.7/site-packages/pip/_internal/index/__init__.py)\n"
     ]
    }
   ],
   "source": [
    "# pip install a package using the venv as a prefix\n",
    "#pip.main([\"install\", \"--prefix\", venv_dir, \"xarray>=0.15\"])\n",
    "#pip.main([\"install\", \"--prefix\",venv_dir, \"-e\", \"git+https://github.com/roocs/dachar.git@dev-elle#egg=dachar\"])\n",
    "\n",
    "!pip install --upgrade pip\n",
    "!pip install git+https://github.com/roocs/dachar.git@dev-elle\n",
    "\n",
    "# !git clone https://github.com/roocs/dachar.git\n",
    "# !pip install -e dachar"
   ]
  },
  {
   "cell_type": "code",
   "execution_count": 9,
   "metadata": {},
   "outputs": [],
   "source": [
    "import dachar\n",
    "\n",
    "char_store = dachar.utils.get_stores.get_dc_store('elasticsearch')\n",
    "fix_store = dachar.utils.get_stores.get_fix_store('elasticsearch')"
   ]
  },
  {
   "cell_type": "markdown",
   "metadata": {},
   "source": [
    "## Working with the character store"
   ]
  },
  {
   "cell_type": "code",
   "execution_count": 10,
   "metadata": {},
   "outputs": [
    {
     "name": "stdout",
     "output_type": "stream",
     "text": [
      "doc=\n",
      "{'coordinates': {'time': {'axis': 'T',\n",
      "                          'bounds': 'time_bnds',\n",
      "                          'calendar': 'noleap',\n",
      "                          'id': 'time',\n",
      "                          'length': 360,\n",
      "                          'long_name': 'time',\n",
      "                          'max': '2035-12-16T12:00:00',\n",
      "                          'min': '2006-01-16T12:00:00',\n",
      "                          'standard_name': 'time'}},\n",
      " 'data': {'dim_names': ['time'],\n",
      "          'max': 0.024897083640098572,\n",
      "          'min': -0.025692744180560112,\n",
      "          'rank': 1,\n",
      "          'shape': [360]},\n",
      " 'dataset_id': 'cmip5.output1.CCCma.CanCM4.rcp45.mon.ocean.Omon.r1i1p1.latest.zostoga',\n",
      " 'global_attrs': {'CCCma_data_licence': '1) GRANT OF LICENCE - The Government '\n",
      "                                        'of Canada (Environment Canada) is '\n",
      "                                        'the \\n'\n",
      "                                        'owner of all intellectual property '\n",
      "                                        'rights (including copyright) that may '\n",
      "                                        'exist in this Data \\n'\n",
      "                                        'product. You (as \"The Licensee\") are '\n",
      "                                        'hereby granted a non-exclusive, '\n",
      "                                        'non-assignable, \\n'\n",
      "                                        'non-transferable unrestricted licence '\n",
      "                                        'to use this data product for any '\n",
      "                                        'purpose including \\n'\n",
      "                                        'the right to share these data with '\n",
      "                                        'others and to make value-added and '\n",
      "                                        'derivative \\n'\n",
      "                                        'products from it. This licence is not '\n",
      "                                        \"a sale of any or all of the owner's \"\n",
      "                                        'rights.\\n'\n",
      "                                        '2) NO WARRANTY - This Data product is '\n",
      "                                        'provided \"as-is\"; it has not been '\n",
      "                                        'designed or \\n'\n",
      "                                        \"prepared to meet the Licensee's \"\n",
      "                                        'particular requirements. Environment '\n",
      "                                        'Canada makes no \\n'\n",
      "                                        'warranty, either express or implied, '\n",
      "                                        'including but not limited to, '\n",
      "                                        'warranties of \\n'\n",
      "                                        'merchantability and fitness for a '\n",
      "                                        'particular purpose. In no event will '\n",
      "                                        'Environment Canada \\n'\n",
      "                                        'be liable for any indirect, special, '\n",
      "                                        'consequential or other damages '\n",
      "                                        'attributed to the \\n'\n",
      "                                        \"Licensee's use of the Data product.\",\n",
      "                  'CCCma_parent_runid': 'IGA',\n",
      "                  'CCCma_runid': 'DHFP1N_E001',\n",
      "                  'Conventions': 'CF-1.4',\n",
      "                  'NCO': 'netCDF Operators version 4.7.8 (Homepage = '\n",
      "                         'http://nco.sf.net, Code = http://github.com/nco/nco)',\n",
      "                  'branch_time': 98915.0,\n",
      "                  'branch_time_YMDH': '2121:01:01:00',\n",
      "                  'cmor_version': '2.8.0',\n",
      "                  'comment': 'These experiments serve as unitialized '\n",
      "                             'comparisons for CCCma CanCM4 decadal '\n",
      "                             'experiments.',\n",
      "                  'contact': 'cccma_info@ec.gc.ca',\n",
      "                  'creation_date': '2012-02-10T21:01:14Z',\n",
      "                  'experiment': 'RCP4.5',\n",
      "                  'experiment_id': 'rcp45',\n",
      "                  'forcing': 'GHG,Oz,SA,BC,OC,LU,Sl,Vl (GHG includes '\n",
      "                             'CO2,CH4,N2O,CFC11,effective CFC12)',\n",
      "                  'frequency': 'mon',\n",
      "                  'history': 'Mon May 11 10:23:09 2020: ncks --variable '\n",
      "                             'zostoga '\n",
      "                             '/badc/cmip5/data/cmip5/output1/CCCma/CanCM4/rcp45/mon/ocean/Omon/r1i1p1/latest/zostoga/zostoga_Omon_CanCM4_rcp45_r1i1p1_200601-203512.nc '\n",
      "                             'test_data/badc/cmip5/data/cmip5/output1/CCCma/CanCM4/rcp45/mon/ocean/Omon/r1i1p1/latest/zostoga/zostoga_Omon_CanCM4_rcp45_r1i1p1_200601-203512.nc\\n'\n",
      "                             '2012-02-10T21:01:14Z CMOR rewrote data to comply '\n",
      "                             'with CF standards and CMIP5 requirements.',\n",
      "                  'initialization_method': 1,\n",
      "                  'institute_id': 'CCCma',\n",
      "                  'institution': 'CCCma (Canadian Centre for Climate Modelling '\n",
      "                                 'and Analysis, Victoria, BC, Canada)',\n",
      "                  'model_id': 'CanCM4',\n",
      "                  'modeling_realm': 'ocean',\n",
      "                  'parent_experiment': 'pre-industrial control',\n",
      "                  'parent_experiment_id': 'piControl',\n",
      "                  'parent_experiment_rip': 'r1i1p1',\n",
      "                  'physics_version': 1,\n",
      "                  'product': 'output',\n",
      "                  'project_id': 'CMIP5',\n",
      "                  'realization': 1,\n",
      "                  'references': 'http://www.cccma.ec.gc.ca/models',\n",
      "                  'source': 'CanCM4 2010 atmosphere: CanAM4 (AGCM15i, T63L35) '\n",
      "                            'ocean: CanOM4 (OGCM4.0, 256x192L40) sea ice: '\n",
      "                            'CanSIM1 (Cavitating Fluid, T63 Gaussian Grid) '\n",
      "                            'land: CLASS2.7',\n",
      "                  'table_id': 'Table Omon (28 March 2011) '\n",
      "                              'd71862c6fdafa47720d8a402f39c8864',\n",
      "                  'title': 'CanCM4 model output prepared for CMIP5 RCP4.5',\n",
      "                  'tracking_id': 'e0e5e484-dc25-4a1b-89d5-5fd12c31b048'},\n",
      " 'scan_metadata': {'last_scanned': '2020-07-13T09:35:54.312427',\n",
      "                   'location': 'ceda',\n",
      "                   'mode': 'full'},\n",
      " 'variable': {'_FillValue': '1e+20',\n",
      "              'associated_files': 'baseURL: '\n",
      "                                  'http://cmip-pcmdi.llnl.gov/CMIP5/dataLocation '\n",
      "                                  'gridspecFile: '\n",
      "                                  'gridspec_ocean_fx_CanCM4_rcp45_r0i0p0.nc',\n",
      "              'cell_methods': 'time: mean (interval: 20 minutes) area: mean '\n",
      "                              'where sea',\n",
      "              'history': '2012-02-10T21:01:14Z altered by CMOR: replaced '\n",
      "                         'missing value flag (1e+38) with standard missing '\n",
      "                         'value (1e+20).',\n",
      "              'long_name': 'Global Average Thermosteric Sea Level Change',\n",
      "              'original_name': 'SLTH',\n",
      "              'standard_name': 'global_average_thermosteric_sea_level_change',\n",
      "              'units': 'm',\n",
      "              'var_id': 'zostoga'}}\n",
      "7\n",
      "roocs-char\n"
     ]
    },
    {
     "ename": "KeyError",
     "evalue": "'ds_id'",
     "output_type": "error",
     "traceback": [
      "\u001b[0;31m---------------------------------------------------------------------------\u001b[0m",
      "\u001b[0;31mKeyError\u001b[0m                                  Traceback (most recent call last)",
      "\u001b[0;32m<ipython-input-10-dacedce36ba0>\u001b[0m in \u001b[0;36m<module>\u001b[0;34m\u001b[0m\n\u001b[1;32m     14\u001b[0m \u001b[0;34m\u001b[0m\u001b[0m\n\u001b[1;32m     15\u001b[0m \u001b[0;31m# To get all drs_ids\u001b[0m\u001b[0;34m\u001b[0m\u001b[0;34m\u001b[0m\u001b[0;34m\u001b[0m\u001b[0m\n\u001b[0;32m---> 16\u001b[0;31m \u001b[0;34m[\u001b[0m\u001b[0mprint\u001b[0m\u001b[0;34m(\u001b[0m\u001b[0m_\u001b[0m\u001b[0;34m)\u001b[0m \u001b[0;32mfor\u001b[0m \u001b[0m_\u001b[0m \u001b[0;32min\u001b[0m \u001b[0mchar_store\u001b[0m\u001b[0;34m.\u001b[0m\u001b[0mget_all_ids\u001b[0m\u001b[0;34m(\u001b[0m\u001b[0;34m)\u001b[0m\u001b[0;34m]\u001b[0m\u001b[0;34m\u001b[0m\u001b[0;34m\u001b[0m\u001b[0m\n\u001b[0m",
      "\u001b[0;32m<ipython-input-10-dacedce36ba0>\u001b[0m in \u001b[0;36m<listcomp>\u001b[0;34m(.0)\u001b[0m\n\u001b[1;32m     14\u001b[0m \u001b[0;34m\u001b[0m\u001b[0m\n\u001b[1;32m     15\u001b[0m \u001b[0;31m# To get all drs_ids\u001b[0m\u001b[0;34m\u001b[0m\u001b[0;34m\u001b[0m\u001b[0;34m\u001b[0m\u001b[0m\n\u001b[0;32m---> 16\u001b[0;31m \u001b[0;34m[\u001b[0m\u001b[0mprint\u001b[0m\u001b[0;34m(\u001b[0m\u001b[0m_\u001b[0m\u001b[0;34m)\u001b[0m \u001b[0;32mfor\u001b[0m \u001b[0m_\u001b[0m \u001b[0;32min\u001b[0m \u001b[0mchar_store\u001b[0m\u001b[0;34m.\u001b[0m\u001b[0mget_all_ids\u001b[0m\u001b[0;34m(\u001b[0m\u001b[0;34m)\u001b[0m\u001b[0;34m]\u001b[0m\u001b[0;34m\u001b[0m\u001b[0;34m\u001b[0m\u001b[0m\n\u001b[0m",
      "\u001b[0;32m~/nb-venvs/venv-dachar-notebook/lib/python3.7/site-packages/dachar/utils/json_store.py\u001b[0m in \u001b[0;36mget_all_ids\u001b[0;34m(self)\u001b[0m\n\u001b[1;32m    296\u001b[0m         \u001b[0mprint\u001b[0m\u001b[0;34m(\u001b[0m\u001b[0mself\u001b[0m\u001b[0;34m.\u001b[0m\u001b[0mconfig\u001b[0m\u001b[0;34m.\u001b[0m\u001b[0mget\u001b[0m\u001b[0;34m(\u001b[0m\u001b[0;34m\"index\"\u001b[0m\u001b[0;34m)\u001b[0m\u001b[0;34m)\u001b[0m\u001b[0;34m\u001b[0m\u001b[0;34m\u001b[0m\u001b[0m\n\u001b[1;32m    297\u001b[0m         \u001b[0;32mfor\u001b[0m \u001b[0mitem\u001b[0m \u001b[0;32min\u001b[0m \u001b[0mresults\u001b[0m\u001b[0;34m:\u001b[0m\u001b[0;34m\u001b[0m\u001b[0;34m\u001b[0m\u001b[0m\n\u001b[0;32m--> 298\u001b[0;31m             \u001b[0;32myield\u001b[0m \u001b[0;34m(\u001b[0m\u001b[0mitem\u001b[0m\u001b[0;34m[\u001b[0m\u001b[0;34m\"_source\"\u001b[0m\u001b[0;34m]\u001b[0m\u001b[0;34m[\u001b[0m\u001b[0;34m\"ds_id\"\u001b[0m\u001b[0;34m]\u001b[0m\u001b[0;34m)\u001b[0m\u001b[0;34m\u001b[0m\u001b[0;34m\u001b[0m\u001b[0m\n\u001b[0m\u001b[1;32m    299\u001b[0m \u001b[0;34m\u001b[0m\u001b[0m\n\u001b[1;32m    300\u001b[0m     \u001b[0;32mdef\u001b[0m \u001b[0mget_all\u001b[0m\u001b[0;34m(\u001b[0m\u001b[0mself\u001b[0m\u001b[0;34m)\u001b[0m\u001b[0;34m:\u001b[0m\u001b[0;34m\u001b[0m\u001b[0;34m\u001b[0m\u001b[0m\n",
      "\u001b[0;31mKeyError\u001b[0m: 'ds_id'"
     ]
    }
   ],
   "source": [
    "import pprint\n",
    "\n",
    "# Use get to get a document by id - the id used is the drs id\n",
    "# An example drs_id would be cmip5.output1.CCCma.CanCM4.rcp45.mon.ocean.Omon.r1i1p1.latest.zostoga\n",
    "\n",
    "# Use the get function to return the contents of the document \n",
    "doc = char_store.get('cmip5.output1.CCCma.CanCM4.rcp45.mon.ocean.Omon.r1i1p1.latest.zostoga')\n",
    "print('doc=') \n",
    "pprint.pprint(doc)\n",
    "\n",
    "# To get all documents\n",
    "all = [_ for _ in char_store.get_all()]\n",
    "print(len(all))\n",
    "\n",
    "# To get all drs_ids\n",
    "[print(_) for _ in char_store.get_all_ids()]"
   ]
  },
  {
   "cell_type": "markdown",
   "metadata": {},
   "source": [
    "The search function allows you to search stores and takes inputs to help you refine your search.\n",
    "- term - the term to search.\n",
    "- exact - if false searches for the term as a substring. This only works with case insesitivity for one word search terms. It defaults to false unless searching a number field (which must have exact=True). \n",
    "- match_ids - searches drs ids as well if True. Defaults to true.\n",
    "- fields - the fields to search. For elasticsearch a nested field must be specified or it will not be searched. Defaults to None."
   ]
  },
  {
   "cell_type": "code",
   "execution_count": null,
   "metadata": {},
   "outputs": [],
   "source": [
    "# Here are some examples of using the search function\n",
    "\n",
    "print('Successful searches')\n",
    "# These searches will return a result\n",
    "res = char_store.search(\"noleap\", exact=True, fields=[\"coordinates.time.calendar\"])\n",
    "print(len(res))\n",
    "\n",
    "# The search is changed to exact = True as searching a number field\n",
    "res = char_store.search(1, exact=True, fields=[\"data.rank\"])\n",
    "print(len(res))\n",
    "\n",
    "res = char_store.search(\"gregorian\", exact=False, fields=[\"coordinates.time.calendar\"])\n",
    "print(len(res))\n",
    "\n",
    "# in documents the phrase is Max Planck - this search is case insensitive\n",
    "res = char_store.search(\"max\", exact=False, fields=[\"global_attrs.institution\"])\n",
    "print(len(res))\n",
    "\n",
    "# This works as a wildcard match as the correct case is used\n",
    "res = char_store.search(\"Max Pla\", exact=False, fields=[\"global_attrs.institution\"])\n",
    "print(len(res))\n",
    "\n",
    "# example of searching dataset_id\n",
    "res = char_store.search(\"MOHC\", match_ids=True, exact=False)\n",
    "print(len(res))\n",
    "\n",
    "print('-------------------')\n",
    "print('Failed searches')\n",
    "# This searches will not return a result \n",
    "\n",
    "# Fails because the field has not been specified - need to specify fields=[\"coordinates.time.calendar\"]\n",
    "res = char_store.search(\"noleap\", exact=True, fields=[\"coordinates\"])\n",
    "print(len(res))\n",
    "\n",
    "# Trying to do a wildcard number search - returns 0 because wildcard matching not available for number fields so I don't find what I'm looking for.\n",
    "res = char_store.search(69, exact=False, fields=[\"data.min\"])\n",
    "print(len(res))\n",
    "\n",
    "# Fails as trying to do a wildcard search on a phrase without using the correct case\n",
    "res = char_store.search(\"max pla\", exact=False, fields=[\"global_attrs.institution\"])\n",
    "print(len(res))"
   ]
  },
  {
   "cell_type": "markdown",
   "metadata": {},
   "source": [
    "## Working with the fix store "
   ]
  },
  {
   "cell_type": "markdown",
   "metadata": {},
   "source": [
    "You can interact with the fix store in the same way:"
   ]
  },
  {
   "cell_type": "code",
   "execution_count": null,
   "metadata": {},
   "outputs": [],
   "source": [
    "# Use the get function to return the contents of the document \n",
    "doc = fix_store.get('cmip5.output1.INM.inmcm4.rcp45.mon.ocean.Omon.r1i1p1.latest.zostoga')\n",
    "print('doc=')\n",
    "pprint.pprint(doc)\n",
    "\n",
    "# To get all documents\n",
    "all = [_ for _ in fix_store.get_all()]\n",
    "print(len(all))\n",
    "\n",
    "# To get all drs_ids\n",
    "#[print(_) for _ in fix_store.get_all_ids()]\n",
    "\n",
    "# A search for all coord fixes\n",
    "res = fix_store.search(\"coord_fixes\", fields=[\"fixes.category\"])\n",
    "print('search result=')\n",
    "pprint.pprint(res)"
   ]
  },
  {
   "cell_type": "code",
   "execution_count": null,
   "metadata": {},
   "outputs": [],
   "source": []
  },
  {
   "cell_type": "code",
   "execution_count": null,
   "metadata": {},
   "outputs": [],
   "source": []
  }
 ],
 "metadata": {
  "kernelspec": {
   "display_name": "Python 3 + Jaspy",
   "language": "python",
   "name": "jaspy"
  },
  "language_info": {
   "codemirror_mode": {
    "name": "ipython",
    "version": 3
   },
   "file_extension": ".py",
   "mimetype": "text/x-python",
   "name": "python",
   "nbconvert_exporter": "python",
   "pygments_lexer": "ipython3",
   "version": "3.7.1"
  }
 },
 "nbformat": 4,
 "nbformat_minor": 4
}
