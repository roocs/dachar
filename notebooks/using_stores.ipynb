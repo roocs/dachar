{
 "cells": [
  {
   "cell_type": "markdown",
   "metadata": {},
   "source": [
    "# Roocs data stores"
   ]
  },
  {
   "cell_type": "markdown",
   "metadata": {},
   "source": [
    "Roocs consists of stores which it uses to identify and apply fixes to datasets. This notebook demonstrates the purpose of and how to interact with the Character store and the Fix store.\n",
    "\n",
    "The Character store contains information about the 'character' of datasets that have been scanned. This is used in the identification of fixes.\n",
    "    \n",
    "The Fix store keeps track of these fixes. Each document corresponds to a specific dataset and details the fixes which are to be applied to it before an operation is applied to it."
   ]
  },
  {
   "cell_type": "code",
   "execution_count": null,
   "metadata": {},
   "outputs": [],
   "source": [
    "DIAGRAM"
   ]
  },
  {
   "cell_type": "markdown",
   "metadata": {},
   "source": [
    "## Working with the character store"
   ]
  },
  {
   "cell_type": "code",
   "execution_count": 3,
   "metadata": {},
   "outputs": [],
   "source": [
    "# Import the required packages\n",
    "import virtualenv\n",
    "import pip\n",
    "import os\n",
    "\n",
    "# Define and create the base directory install virtual environments\n",
    "venvs_dir = os.path.join(os.path.expanduser(\"~\"), \"nb-venvs\")\n",
    "\n",
    "if not os.path.isdir(venvs_dir):\n",
    "    os.makedirs(venvs_dir)\n",
    "    \n",
    "# Define the venv directory\n",
    "venv_dir = os.path.join(venvs_dir, 'venv-dachar-notebook')"
   ]
  },
  {
   "cell_type": "code",
   "execution_count": 4,
   "metadata": {},
   "outputs": [
    {
     "name": "stdout",
     "output_type": "stream",
     "text": [
      "copying /opt/jaspy/bin/python => /home/users/esmith88/nb-venvs/venv-dachar-notebook/bin/python\n"
     ]
    }
   ],
   "source": [
    "# Create the virtual environment\n",
    "virtualenv.create_environment(venv_dir)"
   ]
  },
  {
   "cell_type": "code",
   "execution_count": 5,
   "metadata": {},
   "outputs": [],
   "source": [
    "# Activate the venv\n",
    "activate_file = os.path.join(venv_dir, \"bin\", \"activate_this.py\")\n",
    "exec(open(activate_file).read(), dict(__file__=activate_file))"
   ]
  },
  {
   "cell_type": "code",
   "execution_count": null,
   "metadata": {},
   "outputs": [
    {
     "name": "stderr",
     "output_type": "stream",
     "text": [
      "WARNING: pip is being invoked by an old script wrapper. This will fail in a future version of pip.\n",
      "Please see https://github.com/pypa/pip/issues/5599 for advice on fixing the underlying issue.\n",
      "To avoid this problem you can invoke Python with '-m pip' instead of running pip directly.\n"
     ]
    },
    {
     "name": "stdout",
     "output_type": "stream",
     "text": [
      "Collecting xarray>=0.15\n",
      "  Using cached xarray-0.16.0-py3-none-any.whl (704 kB)\n",
      "Collecting pandas>=0.25\n",
      "  Using cached pandas-1.0.5-cp37-cp37m-manylinux1_x86_64.whl (10.1 MB)\n",
      "Collecting setuptools>=41.2\n",
      "  Using cached setuptools-49.2.0-py3-none-any.whl (789 kB)\n",
      "Requirement already satisfied: numpy>=1.15 in /opt/jaspy/lib/python3.7/site-packages (from xarray>=0.15) (1.15.4)\n",
      "Requirement already satisfied: python-dateutil>=2.6.1 in /opt/jaspy/lib/python3.7/site-packages (from pandas>=0.25->xarray>=0.15) (2.7.5)\n",
      "Requirement already satisfied: pytz>=2017.2 in /opt/jaspy/lib/python3.7/site-packages (from pandas>=0.25->xarray>=0.15) (2018.7)\n",
      "Requirement already satisfied: six>=1.5 in /opt/jaspy/lib/python3.7/site-packages (from python-dateutil>=2.6.1->pandas>=0.25->xarray>=0.15) (1.12.0)\n"
     ]
    },
    {
     "name": "stderr",
     "output_type": "stream",
     "text": [
      "ERROR: scitools-iris 2.2.0 has requirement matplotlib<3,>=2, but you'll have matplotlib 3.0.2 which is incompatible.\n"
     ]
    },
    {
     "name": "stdout",
     "output_type": "stream",
     "text": [
      "Installing collected packages: pandas, setuptools, xarray\n",
      "  Attempting uninstall: pandas\n",
      "    Found existing installation: pandas 0.23.4\n"
     ]
    },
    {
     "name": "stderr",
     "output_type": "stream",
     "text": [
      "    WARNING: Could not access 'pyvenv.cfg' despite a virtual environment being active. Assuming global site-packages is not accessible in this environment.\n"
     ]
    },
    {
     "name": "stdout",
     "output_type": "stream",
     "text": [
      "    Not uninstalling pandas at /opt/jaspy/lib/python3.7/site-packages, outside environment /home/users/esmith88/nb-venvs/venv-dachar-notebook\n",
      "    Can't uninstall 'pandas'. No files were found to uninstall.\n"
     ]
    }
   ],
   "source": [
    "# pip install a package using the venv as a prefix\n",
    "pip.main([\"install\", \"--prefix\", venv_dir, \"xarray>=0.15\"])\n",
    "pip.main([\"install\", \"--prefix\", venv_dir, \"netcdftime\"])\n",
    "#pip.main([\"install\", \"--prefix\",venv_dir, \"-e\", \"git+https://github.com/roocs/dachar.git@dev-elle#egg=dachar\"])"
   ]
  },
  {
   "cell_type": "code",
   "execution_count": 17,
   "metadata": {},
   "outputs": [
    {
     "ename": "ModuleNotFoundError",
     "evalue": "No module named 'dachar'",
     "output_type": "error",
     "traceback": [
      "\u001b[0;31m---------------------------------------------------------------------------\u001b[0m",
      "\u001b[0;31mModuleNotFoundError\u001b[0m                       Traceback (most recent call last)",
      "\u001b[0;32m<ipython-input-17-e1f97eb80b1e>\u001b[0m in \u001b[0;36m<module>\u001b[0;34m\u001b[0m\n\u001b[0;32m----> 1\u001b[0;31m \u001b[0;32mfrom\u001b[0m \u001b[0mdachar\u001b[0m\u001b[0;34m.\u001b[0m\u001b[0mdachar\u001b[0m\u001b[0;34m.\u001b[0m\u001b[0mutils\u001b[0m \u001b[0;32mimport\u001b[0m \u001b[0mget_stores\u001b[0m\u001b[0;34m\u001b[0m\u001b[0;34m\u001b[0m\u001b[0m\n\u001b[0m\u001b[1;32m      2\u001b[0m \u001b[0mchar_store\u001b[0m \u001b[0;34m=\u001b[0m \u001b[0mget_stores\u001b[0m\u001b[0;34m.\u001b[0m\u001b[0mget_dc_store\u001b[0m\u001b[0;34m(\u001b[0m\u001b[0;34m'elasticsearch'\u001b[0m\u001b[0;34m)\u001b[0m\u001b[0;34m\u001b[0m\u001b[0;34m\u001b[0m\u001b[0m\n\u001b[1;32m      3\u001b[0m \u001b[0mchar_store\u001b[0m\u001b[0;34m.\u001b[0m\u001b[0mget_all\u001b[0m\u001b[0;34m(\u001b[0m\u001b[0;34m)\u001b[0m\u001b[0;34m\u001b[0m\u001b[0;34m\u001b[0m\u001b[0m\n",
      "\u001b[0;31mModuleNotFoundError\u001b[0m: No module named 'dachar'"
     ]
    }
   ],
   "source": [
    "from dachar.dachar.utils import get_stores\n",
    "char_store = get_stores.get_dc_store('elasticsearch')\n",
    "char_store.get_all()"
   ]
  },
  {
   "cell_type": "code",
   "execution_count": null,
   "metadata": {},
   "outputs": [],
   "source": []
  },
  {
   "cell_type": "code",
   "execution_count": null,
   "metadata": {},
   "outputs": [],
   "source": []
  }
 ],
 "metadata": {
  "kernelspec": {
   "display_name": "Python 3 + Jaspy",
   "language": "python",
   "name": "jaspy"
  },
  "language_info": {
   "codemirror_mode": {
    "name": "ipython",
    "version": 3
   },
   "file_extension": ".py",
   "mimetype": "text/x-python",
   "name": "python",
   "nbconvert_exporter": "python",
   "pygments_lexer": "ipython3",
   "version": "3.7.1"
  }
 },
 "nbformat": 4,
 "nbformat_minor": 4
}
